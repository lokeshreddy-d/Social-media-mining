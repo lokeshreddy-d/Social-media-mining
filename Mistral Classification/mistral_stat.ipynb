{
 "cells": [
  {
   "cell_type": "code",
   "execution_count": 1,
   "id": "333ad416-ffcd-49eb-9685-2fe782326c85",
   "metadata": {},
   "outputs": [
    {
     "name": "stdout",
     "output_type": "stream",
     "text": [
      "Accuracy scores: {'toxic': 0.6591928251121076, 'severe_toxic': 0.783472133247918, 'obscene': 0.8289557975656631, 'threat': 0.8295964125560538, 'insult': 0.7892376681614349, 'identity_hate': 0.8968609865470852}\n",
      "F1 scores: {'toxic': 0.15822784810126583, 'severe_toxic': 0.028735632183908046, 'obscene': 0.1981981981981982, 'threat': 0.036231884057971016, 'insult': 0.13192612137203166, 'identity_hate': 0.08}\n",
      "Precision scores: {'toxic': 0.10638297872340426, 'severe_toxic': 0.01524390243902439, 'obscene': 0.21153846153846154, 'threat': 0.019455252918287938, 'insult': 0.10204081632653061, 'identity_hate': 0.04697986577181208}\n",
      "Recall scores: {'toxic': 0.30864197530864196, 'severe_toxic': 0.25, 'obscene': 0.1864406779661017, 'threat': 0.2631578947368421, 'insult': 0.1865671641791045, 'identity_hate': 0.2692307692307692}\n",
      "Average accuracy: 0.7978859705317105\n",
      "Average F1 score: 0.10555328065222912\n",
      "Average precision: 0.0836068796195868\n",
      "Average recall: 0.24400641357024322\n"
     ]
    }
   ],
   "source": [
    "import pandas as pd\n",
    "from sklearn.metrics import accuracy_score, f1_score, precision_score, recall_score\n",
    "\n",
    "# Load the dataset\n",
    "file_path = 'mistral_response_final.csv'\n",
    "data = pd.read_csv(file_path)\n",
    "\n",
    "categories = ['toxic', 'severe_toxic', 'obscene', 'threat', 'insult', 'identity_hate']\n",
    "\n",
    "# Dictionaries to store accuracy, F1, precision, and recall scores for each category\n",
    "accuracy_scores = {}\n",
    "f1_scores = {}\n",
    "precision_scores = {}\n",
    "recall_scores = {}\n",
    "\n",
    "# Calculating accuracy, F1, precision, and recall scores for each category\n",
    "for category in categories:\n",
    "    predicted = data[category]\n",
    "    true = data['true_' + category]\n",
    "    accuracy_scores[category] = accuracy_score(true, predicted)\n",
    "    f1_scores[category] = f1_score(true, predicted)\n",
    "    precision_scores[category] = precision_score(true, predicted, zero_division=0)\n",
    "    recall_scores[category] = recall_score(true, predicted, zero_division=0)\n",
    "\n",
    "# Calculate average scores\n",
    "average_accuracy = sum(accuracy_scores.values()) / len(accuracy_scores)\n",
    "average_f1 = sum(f1_scores.values()) / len(f1_scores)\n",
    "average_precision = sum(precision_scores.values()) / len(precision_scores)\n",
    "average_recall = sum(recall_scores.values()) / len(recall_scores)\n",
    "print(\"Accuracy scores:\", accuracy_scores)\n",
    "print(\"F1 scores:\", f1_scores)\n",
    "print(\"Precision scores:\", precision_scores)\n",
    "print(\"Recall scores:\", recall_scores)\n",
    "print(\"Average accuracy:\", average_accuracy)\n",
    "print(\"Average F1 score:\", average_f1)\n",
    "print(\"Average precision:\", average_precision)\n",
    "print(\"Average recall:\", average_recall)\n"
   ]
  }
 ],
 "metadata": {
  "kernelspec": {
   "display_name": "Python 3 (ipykernel)",
   "language": "python",
   "name": "python3"
  },
  "language_info": {
   "codemirror_mode": {
    "name": "ipython",
    "version": 3
   },
   "file_extension": ".py",
   "mimetype": "text/x-python",
   "name": "python",
   "nbconvert_exporter": "python",
   "pygments_lexer": "ipython3",
   "version": "3.11.5"
  }
 },
 "nbformat": 4,
 "nbformat_minor": 5
}
